{
  "cells": [
    {
      "cell_type": "code",
      "execution_count": 1,
      "metadata": {
        "id": "ICT5cvFyQpe9"
      },
      "outputs": [],
      "source": [
        "import tensorflow as tf\n",
        "import matplotlib.pyplot as plt\n",
        "import numpy as np\n",
        "from tensorflow import keras\n",
        "from keras import layers\n",
        "from keras.datasets import mnist\n",
        "from keras.models import Sequential\n",
        "from keras.layers import Flatten,Dense,Activation\n",
        "from keras import backend as K"
      ]
    },
    {
      "cell_type": "code",
      "execution_count": 2,
      "metadata": {
        "colab": {
          "base_uri": "https://localhost:8080/"
        },
        "id": "m_-6wDQ-RSqD",
        "outputId": "86975fae-aefe-4b78-99eb-a782a9cac8a4"
      },
      "outputs": [
        {
          "name": "stdout",
          "output_type": "stream",
          "text": [
            "Downloading data from https://storage.googleapis.com/tensorflow/tf-keras-datasets/mnist.npz\n",
            "11490434/11490434 [==============================] - 0s 0us/step\n"
          ]
        }
      ],
      "source": [
        "(X_train, Y_train), (X_test, Y_test) = mnist.load_data()"
      ]
    },
    {
      "cell_type": "code",
      "execution_count": 3,
      "metadata": {
        "colab": {
          "base_uri": "https://localhost:8080/"
        },
        "collapsed": true,
        "id": "qNSabgVjTHvU",
        "outputId": "744a98c5-99d9-4c8f-fdd5-21c98f78f0da"
      },
      "outputs": [
        {
          "data": {
            "text/plain": [
              "((60000, 28, 28), (60000,), (10000, 28, 28), (10000,))"
            ]
          },
          "execution_count": 3,
          "metadata": {},
          "output_type": "execute_result"
        }
      ],
      "source": [
        "X_train.shape , Y_train.shape , X_test.shape , Y_test.shape"
      ]
    },
    {
      "cell_type": "code",
      "execution_count": 4,
      "metadata": {
        "id": "1XnfGzGDXMkF"
      },
      "outputs": [],
      "source": [
        "X_train = X_train.astype('float32')\n",
        "X_test = X_test.astype('float32')"
      ]
    },
    {
      "cell_type": "code",
      "execution_count": 5,
      "metadata": {
        "id": "fk54t0OmXE3L"
      },
      "outputs": [],
      "source": [
        "X_train /= 255\n",
        "X_test  /= 255"
      ]
    },
    {
      "cell_type": "code",
      "execution_count": 7,
      "metadata": {
        "id": "3xaMrnRvbtp1"
      },
      "outputs": [],
      "source": [
        "Y_train_oh = tf.keras.utils.to_categorical(Y_train, 10)"
      ]
    },
    {
      "cell_type": "code",
      "execution_count": 6,
      "metadata": {
        "id": "Xui9jtDWY8V0"
      },
      "outputs": [],
      "source": [
        "nh1 = 5\n",
        "nh2 = 5\n",
        "ny = 10\n",
        "\n",
        "batch_size = 64"
      ]
    },
    {
      "cell_type": "code",
      "execution_count": 8,
      "metadata": {
        "id": "9llh4Ps0ca6S"
      },
      "outputs": [],
      "source": [
        "def test_accuracy(model):\n",
        "  test_predict  = model.predict(X_test)\n",
        "  test_res = np.argwhere(test_predict==np.amax(test_predict,1, keepdims=True))\n",
        "  test_res = test_res[:,1].reshape((test_res.shape[0]))\n",
        "  acc = 1 - (np.count_nonzero(np.subtract(test_res,Y_test))/test_res.shape[0])\n",
        "  return acc"
      ]
    },
    {
      "cell_type": "code",
      "execution_count": 9,
      "metadata": {
        "id": "vI4LOgsdgu2H"
      },
      "outputs": [],
      "source": [
        "def loss_plot(history,label):\n",
        "  loss = history.history['loss']\n",
        "  plt.clf()\n",
        "  x = np.linspace(0,len(loss),len(loss))\n",
        "  plt.plot(x,loss,'black',label=\"Loss of \"+label)\n",
        "  plt.legend()"
      ]
    },
    {
      "cell_type": "code",
      "execution_count": 10,
      "metadata": {
        "id": "iH0sXx9q_F4q"
      },
      "outputs": [],
      "source": [
        "class Custom_Loss_Function(tf.keras.losses.Loss):\n",
        "    def __init__(self , model , landa):\n",
        "        super().__init__()\n",
        "        self.model = model\n",
        "        self.landa = landa\n",
        "\n",
        "    def call(self, y_true, y_pred):\n",
        "        correlation = tf.matmul(y_true,tf.transpose(y_true))\n",
        "        mul = tf.math.abs(tf.matmul(y_pred,tf.transpose(y_pred)))\n",
        "\n",
        "        s = tf.reduce_mean(tf.math.multiply(correlation , mul))\n",
        "        d = tf.reduce_mean(tf.math.multiply(tf.ones_like(correlation)-correlation , mul))\n",
        "\n",
        "        cost = 1-s+d\n",
        "        log_y_pred = tf.math.log(y_pred)\n",
        "        elements = -tf.math.multiply_no_nan(x=log_y_pred, y=y_true)\n",
        "        return tf.reduce_mean(tf.reduce_sum(elements,axis=1)) + self.landa * cost"
      ]
    },
    {
      "cell_type": "code",
      "execution_count": 11,
      "metadata": {
        "id": "yv4luqa1f_m-"
      },
      "outputs": [],
      "source": [
        "class ModelOutputCallback(tf.keras.callbacks.Callback):\n",
        "  def __init__(self):\n",
        "    tf.keras.callbacks.Callback.__init__(self)\n",
        "\n",
        "  def on_train_batch_end(self, batch, logs=None):\n",
        "    global batch_num\n",
        "    batch_num = int(batch)+1\n",
        "        "
      ]
    },
    {
      "cell_type": "code",
      "execution_count": 12,
      "metadata": {
        "id": "aq3M1_1QR3X2"
      },
      "outputs": [],
      "source": [
        "class L_new(tf.keras.losses.Loss):\n",
        "    def __init__(self , model , landa , batch_size):\n",
        "        super().__init__()\n",
        "        self.model = model\n",
        "        self.landa = landa\n",
        "        self.batch_size = batch_size\n",
        "        self.layer1_model = tf.keras.Model(inputs=self.model.input,outputs=self.model.layers[1].output)\n",
        "        self.layer2_model = tf.keras.Model(inputs=self.model.input,outputs=self.model.layers[2].output)\n",
        "    \n",
        "    @tf.function\n",
        "    def call(self, y_true, y_pred):\n",
        "        global batch_num\n",
        "        data = X_train[batch_num * self.batch_size : min(X_train.shape[0] , batch_num+1 * self.batch_size) , : , :]\n",
        "        layer1_output = self.layer1_model(data)\n",
        "        layer2_output = self.layer2_model(data)\n",
        "        mul = tf.matmul(layer1_output , tf.transpose(layer2_output))\n",
        "        cost =  tf.reduce_mean(tf.math.abs(tf.ones_like(mul) - tf.math.abs(mul)))\n",
        "        log_y_pred = tf.math.log(y_pred)\n",
        "        elements = -tf.math.multiply_no_nan(x=log_y_pred, y=y_true)\n",
        "        cross_entropy = tf.reduce_mean(tf.reduce_sum(elements,axis=1))\n",
        "        return cross_entropy + self.landa * cost"
      ]
    },
    {
      "cell_type": "code",
      "execution_count": 30,
      "metadata": {
        "colab": {
          "base_uri": "https://localhost:8080/"
        },
        "collapsed": true,
        "id": "Y8G_YxdqXi0d",
        "outputId": "67d310d0-e6e1-4e88-a316-212ae106344d"
      },
      "outputs": [
        {
          "name": "stdout",
          "output_type": "stream",
          "text": [
            "Epoch 1/20\n",
            "938/938 - 2s - loss: 1.0637 - accuracy: 0.6502 - 2s/epoch - 2ms/step\n",
            "Epoch 2/20\n",
            "938/938 - 1s - loss: 0.8128 - accuracy: 0.7701 - 1s/epoch - 1ms/step\n",
            "Epoch 3/20\n",
            "938/938 - 1s - loss: 0.7285 - accuracy: 0.8134 - 1s/epoch - 2ms/step\n",
            "Epoch 4/20\n",
            "938/938 - 1s - loss: 0.6749 - accuracy: 0.8298 - 1s/epoch - 2ms/step\n",
            "Epoch 5/20\n",
            "938/938 - 2s - loss: 0.6485 - accuracy: 0.8359 - 2s/epoch - 2ms/step\n",
            "Epoch 6/20\n",
            "938/938 - 1s - loss: 0.6401 - accuracy: 0.8369 - 1s/epoch - 2ms/step\n",
            "Epoch 7/20\n",
            "938/938 - 1s - loss: 0.6197 - accuracy: 0.8420 - 1s/epoch - 2ms/step\n",
            "Epoch 8/20\n",
            "938/938 - 1s - loss: 0.6225 - accuracy: 0.8444 - 1s/epoch - 2ms/step\n",
            "Epoch 9/20\n",
            "938/938 - 1s - loss: 0.6055 - accuracy: 0.8467 - 1s/epoch - 2ms/step\n",
            "Epoch 10/20\n",
            "938/938 - 1s - loss: 0.6065 - accuracy: 0.8493 - 1s/epoch - 2ms/step\n",
            "Epoch 11/20\n",
            "938/938 - 1s - loss: 0.6001 - accuracy: 0.8504 - 1s/epoch - 1ms/step\n",
            "Epoch 12/20\n",
            "938/938 - 1s - loss: 0.6061 - accuracy: 0.8502 - 1s/epoch - 2ms/step\n",
            "Epoch 13/20\n",
            "938/938 - 1s - loss: 0.6015 - accuracy: 0.8500 - 1s/epoch - 2ms/step\n",
            "Epoch 14/20\n",
            "938/938 - 1s - loss: 0.5927 - accuracy: 0.8539 - 1s/epoch - 2ms/step\n",
            "Epoch 15/20\n",
            "938/938 - 2s - loss: 0.5882 - accuracy: 0.8589 - 2s/epoch - 2ms/step\n",
            "Epoch 16/20\n",
            "938/938 - 2s - loss: 0.5815 - accuracy: 0.8593 - 2s/epoch - 2ms/step\n",
            "Epoch 17/20\n",
            "938/938 - 1s - loss: 0.5832 - accuracy: 0.8594 - 1s/epoch - 2ms/step\n",
            "Epoch 18/20\n",
            "938/938 - 1s - loss: 0.5830 - accuracy: 0.8588 - 1s/epoch - 2ms/step\n",
            "Epoch 19/20\n",
            "938/938 - 1s - loss: 0.5914 - accuracy: 0.8541 - 1s/epoch - 1ms/step\n",
            "Epoch 20/20\n",
            "938/938 - 1s - loss: 0.5870 - accuracy: 0.8561 - 1s/epoch - 2ms/step\n"
          ]
        }
      ],
      "source": [
        "model1 = Sequential()\n",
        "model1.add(Flatten(input_shape=(X_train.shape[1] , X_train.shape[2]))) # input layer\n",
        "model1.add(Dense(nh1 , activation='sigmoid')) # first hidden layer\n",
        "model1.add(Dense(nh2 , activation='sigmoid')) # second hidden layer\n",
        "model1.add(Dense(ny , activation='softmax')) # output layer\n",
        "model1.compile(optimizer=tf.keras.optimizers.SGD(learning_rate=0.1, decay=1e-6, momentum=0.99, nesterov=True) , \n",
        "                loss= tf.keras.losses.CategoricalCrossentropy() , metrics=['accuracy'] )\n",
        "history1 = model1.fit(X_train , Y_train_oh , epochs = 20 , batch_size = batch_size , verbose = 2)"
      ]
    },
    {
      "cell_type": "code",
      "execution_count": 31,
      "metadata": {
        "colab": {
          "base_uri": "https://localhost:8080/"
        },
        "collapsed": true,
        "id": "bHbdDFh_cXe4",
        "outputId": "6930a2cf-52c3-4c46-d171-fc32f466367b"
      },
      "outputs": [
        {
          "name": "stdout",
          "output_type": "stream",
          "text": [
            "313/313 [==============================] - 0s 1ms/step\n"
          ]
        },
        {
          "data": {
            "text/plain": [
              "0.8549"
            ]
          },
          "execution_count": 31,
          "metadata": {},
          "output_type": "execute_result"
        }
      ],
      "source": [
        "test_accuracy(model1)"
      ]
    },
    {
      "cell_type": "code",
      "execution_count": 32,
      "metadata": {
        "colab": {
          "base_uri": "https://localhost:8080/",
          "height": 265
        },
        "collapsed": true,
        "id": "wpqY0ALghBKN",
        "outputId": "dc6e1dc4-8bec-48f9-bb42-784ce30c9123"
      },
      "outputs": [
        {
          "data": {
            "image/png": "[encoded data removed]",
            "text/plain": [
              "<Figure size 432x288 with 1 Axes>"
            ]
          },
          "metadata": {
            "needs_background": "light"
          },
          "output_type": "display_data"
        }
      ],
      "source": [
        "loss_plot(history1,\"Model 1\")"
      ]
    },
    {
      "cell_type": "code",
      "execution_count": 33,
      "metadata": {
        "colab": {
          "base_uri": "https://localhost:8080/"
        },
        "collapsed": true,
        "id": "mBN_fnoVn0Ve",
        "outputId": "6f483b85-1fbf-4a68-db6b-3514a658e8e7"
      },
      "outputs": [
        {
          "name": "stdout",
          "output_type": "stream",
          "text": [
            "Epoch 1/20\n",
            "938/938 - 3s - loss: 1.0973 - accuracy: 0.6666 - 3s/epoch - 3ms/step\n",
            "Epoch 2/20\n",
            "938/938 - 3s - loss: 0.7847 - accuracy: 0.7679 - 3s/epoch - 3ms/step\n",
            "Epoch 3/20\n",
            "938/938 - 2s - loss: 0.7349 - accuracy: 0.7834 - 2s/epoch - 2ms/step\n",
            "Epoch 4/20\n",
            "938/938 - 2s - loss: 0.7189 - accuracy: 0.7849 - 2s/epoch - 2ms/step\n",
            "Epoch 5/20\n",
            "938/938 - 2s - loss: 0.6922 - accuracy: 0.7910 - 2s/epoch - 2ms/step\n",
            "Epoch 6/20\n",
            "938/938 - 2s - loss: 0.6703 - accuracy: 0.8043 - 2s/epoch - 2ms/step\n",
            "Epoch 7/20\n",
            "938/938 - 2s - loss: 0.6512 - accuracy: 0.8298 - 2s/epoch - 2ms/step\n",
            "Epoch 8/20\n",
            "938/938 - 2s - loss: 0.6150 - accuracy: 0.8496 - 2s/epoch - 2ms/step\n",
            "Epoch 9/20\n",
            "938/938 - 2s - loss: 0.6082 - accuracy: 0.8541 - 2s/epoch - 2ms/step\n",
            "Epoch 10/20\n",
            "938/938 - 2s - loss: 0.6104 - accuracy: 0.8531 - 2s/epoch - 2ms/step\n",
            "Epoch 11/20\n",
            "938/938 - 2s - loss: 0.6114 - accuracy: 0.8555 - 2s/epoch - 2ms/step\n",
            "Epoch 12/20\n",
            "938/938 - 2s - loss: 0.6026 - accuracy: 0.8599 - 2s/epoch - 2ms/step\n",
            "Epoch 13/20\n",
            "938/938 - 2s - loss: 0.5960 - accuracy: 0.8605 - 2s/epoch - 2ms/step\n",
            "Epoch 14/20\n",
            "938/938 - 2s - loss: 0.6016 - accuracy: 0.8606 - 2s/epoch - 2ms/step\n",
            "Epoch 15/20\n",
            "938/938 - 2s - loss: 0.5885 - accuracy: 0.8640 - 2s/epoch - 2ms/step\n",
            "Epoch 16/20\n",
            "938/938 - 2s - loss: 0.5939 - accuracy: 0.8598 - 2s/epoch - 2ms/step\n",
            "Epoch 17/20\n",
            "938/938 - 2s - loss: 0.5894 - accuracy: 0.8648 - 2s/epoch - 2ms/step\n",
            "Epoch 18/20\n",
            "938/938 - 2s - loss: 0.5778 - accuracy: 0.8691 - 2s/epoch - 2ms/step\n",
            "Epoch 19/20\n",
            "938/938 - 2s - loss: 0.5792 - accuracy: 0.8688 - 2s/epoch - 2ms/step\n",
            "Epoch 20/20\n",
            "938/938 - 2s - loss: 0.5789 - accuracy: 0.8672 - 2s/epoch - 2ms/step\n"
          ]
        }
      ],
      "source": [
        "batch_num = 0\n",
        "model2 = Sequential()\n",
        "model2.add(Flatten(input_shape=(X_train.shape[1] , X_train.shape[2]))) # input layer\n",
        "model2.add(Dense(nh1 , activation='sigmoid')) # first hidden layer\n",
        "model2.add(Dense(nh2 , activation='sigmoid')) # second hidden layer\n",
        "model2.add(Dense(ny , activation='softmax')) # output layer\n",
        "model2.compile(optimizer=tf.keras.optimizers.SGD(learning_rate=0.1, decay=1e-6, momentum=0.99, nesterov=True) , \n",
        "                loss= L_new(model2,0.1 , batch_size) , metrics=['accuracy'])\n",
        "history2 = model2.fit(X_train , Y_train_oh , epochs = 20 , batch_size = batch_size , verbose = 2 , callbacks=[ModelOutputCallback()])"
      ]
    },
    {
      "cell_type": "code",
      "execution_count": 34,
      "metadata": {
        "colab": {
          "base_uri": "https://localhost:8080/"
        },
        "id": "GBeosV0gtLJg",
        "outputId": "5d87181a-0a45-4ee0-fa16-acde58c9565e"
      },
      "outputs": [
        {
          "name": "stdout",
          "output_type": "stream",
          "text": [
            "313/313 [==============================] - 0s 1ms/step\n"
          ]
        },
        {
          "data": {
            "text/plain": [
              "0.866"
            ]
          },
          "execution_count": 34,
          "metadata": {},
          "output_type": "execute_result"
        }
      ],
      "source": [
        "test_accuracy(model2)"
      ]
    },
    {
      "cell_type": "code",
      "execution_count": 35,
      "metadata": {
        "colab": {
          "base_uri": "https://localhost:8080/",
          "height": 265
        },
        "id": "r2zBOoMetNfc",
        "outputId": "e5081f11-a489-4e58-d7c7-d7d41f19c03c"
      },
      "outputs": [
        {
          "data": {
            "image/png": "[encoded data removed]",
            "text/plain": [
              "<Figure size 432x288 with 1 Axes>"
            ]
          },
          "metadata": {
            "needs_background": "light"
          },
          "output_type": "display_data"
        }
      ],
      "source": [
        "loss_plot(history2,\"Model 2\")"
      ]
    },
    {
      "cell_type": "code",
      "execution_count": 36,
      "metadata": {
        "colab": {
          "base_uri": "https://localhost:8080/"
        },
        "id": "8Gb8hV9AI3ZP",
        "outputId": "3bac314e-9e50-4d84-8808-626267a7a753"
      },
      "outputs": [
        {
          "name": "stdout",
          "output_type": "stream",
          "text": [
            "Epoch 1/20\n",
            "938/938 - 2s - loss: 1.0588 - accuracy: 0.6792 - 2s/epoch - 3ms/step\n",
            "Epoch 2/20\n",
            "938/938 - 2s - loss: 0.7658 - accuracy: 0.8038 - 2s/epoch - 2ms/step\n",
            "Epoch 3/20\n",
            "938/938 - 2s - loss: 0.7187 - accuracy: 0.8120 - 2s/epoch - 2ms/step\n",
            "Epoch 4/20\n",
            "938/938 - 2s - loss: 0.6719 - accuracy: 0.8245 - 2s/epoch - 2ms/step\n",
            "Epoch 5/20\n",
            "938/938 - 2s - loss: 0.6442 - accuracy: 0.8352 - 2s/epoch - 2ms/step\n",
            "Epoch 6/20\n",
            "938/938 - 2s - loss: 0.6443 - accuracy: 0.8380 - 2s/epoch - 2ms/step\n",
            "Epoch 7/20\n",
            "938/938 - 2s - loss: 0.6428 - accuracy: 0.8353 - 2s/epoch - 2ms/step\n",
            "Epoch 8/20\n",
            "938/938 - 2s - loss: 0.6216 - accuracy: 0.8452 - 2s/epoch - 2ms/step\n",
            "Epoch 9/20\n",
            "938/938 - 2s - loss: 0.6265 - accuracy: 0.8433 - 2s/epoch - 2ms/step\n",
            "Epoch 10/20\n",
            "938/938 - 2s - loss: 0.6111 - accuracy: 0.8522 - 2s/epoch - 2ms/step\n",
            "Epoch 11/20\n",
            "938/938 - 2s - loss: 0.6075 - accuracy: 0.8518 - 2s/epoch - 2ms/step\n",
            "Epoch 12/20\n",
            "938/938 - 2s - loss: 0.6147 - accuracy: 0.8493 - 2s/epoch - 2ms/step\n",
            "Epoch 13/20\n",
            "938/938 - 2s - loss: 0.5958 - accuracy: 0.8537 - 2s/epoch - 2ms/step\n",
            "Epoch 14/20\n",
            "938/938 - 2s - loss: 0.5993 - accuracy: 0.8522 - 2s/epoch - 2ms/step\n",
            "Epoch 15/20\n",
            "938/938 - 2s - loss: 0.5924 - accuracy: 0.8561 - 2s/epoch - 2ms/step\n",
            "Epoch 16/20\n",
            "938/938 - 2s - loss: 0.5963 - accuracy: 0.8558 - 2s/epoch - 2ms/step\n",
            "Epoch 17/20\n",
            "938/938 - 2s - loss: 0.5946 - accuracy: 0.8540 - 2s/epoch - 2ms/step\n",
            "Epoch 18/20\n",
            "938/938 - 2s - loss: 0.5871 - accuracy: 0.8580 - 2s/epoch - 2ms/step\n",
            "Epoch 19/20\n",
            "938/938 - 2s - loss: 0.5813 - accuracy: 0.8613 - 2s/epoch - 2ms/step\n",
            "Epoch 20/20\n",
            "938/938 - 2s - loss: 0.5918 - accuracy: 0.8569 - 2s/epoch - 2ms/step\n"
          ]
        }
      ],
      "source": [
        "batch_num = 0\n",
        "model3 = Sequential()\n",
        "model3.add(Flatten(input_shape=(X_train.shape[1] , X_train.shape[2]))) # input layer\n",
        "model3.add(Dense(nh1 , activation='sigmoid')) # first hidden layer\n",
        "model3.add(Dense(nh2 , activation='sigmoid')) # second hidden layer\n",
        "model3.add(Dense(ny , activation='softmax')) # output layer\n",
        "model3.compile(optimizer=tf.keras.optimizers.SGD(learning_rate=0.1, decay=1e-6, momentum=0.99, nesterov=True) ,\n",
        "                loss= L_new(model3,0.001,batch_size) , metrics=['accuracy'] )\n",
        "history3 = model3.fit(X_train , Y_train_oh , epochs = 20 , batch_size = batch_size , verbose = 2)"
      ]
    },
    {
      "cell_type": "code",
      "execution_count": 37,
      "metadata": {
        "colab": {
          "base_uri": "https://localhost:8080/"
        },
        "id": "o2lcVrGNtum6",
        "outputId": "555d6740-f80d-42c2-a55e-b543e2ece9e7"
      },
      "outputs": [
        {
          "name": "stdout",
          "output_type": "stream",
          "text": [
            "313/313 [==============================] - 0s 1ms/step\n"
          ]
        },
        {
          "data": {
            "text/plain": [
              "0.8582"
            ]
          },
          "execution_count": 37,
          "metadata": {},
          "output_type": "execute_result"
        }
      ],
      "source": [
        "test_accuracy(model3)"
      ]
    },
    {
      "cell_type": "code",
      "execution_count": 38,
      "metadata": {
        "colab": {
          "base_uri": "https://localhost:8080/",
          "height": 265
        },
        "id": "TWUbae93tugd",
        "outputId": "57963cb9-ee9c-468e-d179-e01ab71248f9"
      },
      "outputs": [
        {
          "data": {
            "image/png": "[encoded data removed]",
            "text/plain": [
              "<Figure size 432x288 with 1 Axes>"
            ]
          },
          "metadata": {
            "needs_background": "light"
          },
          "output_type": "display_data"
        }
      ],
      "source": [
        "loss_plot(history2,\"Model 3\")"
      ]
    },
    {
      "cell_type": "code",
      "execution_count": 58,
      "metadata": {
        "colab": {
          "base_uri": "https://localhost:8080/"
        },
        "id": "uTv1FdZeLFKo",
        "outputId": "5765a20f-0476-471f-e7eb-163406defad6"
      },
      "outputs": [
        {
          "name": "stdout",
          "output_type": "stream",
          "text": [
            "Epoch 1/20\n",
            "938/938 - 2s - loss: 1.0363 - accuracy: 0.6536 - 2s/epoch - 2ms/step\n",
            "Epoch 2/20\n",
            "938/938 - 2s - loss: 0.7138 - accuracy: 0.7692 - 2s/epoch - 2ms/step\n",
            "Epoch 3/20\n",
            "938/938 - 2s - loss: 0.6788 - accuracy: 0.7843 - 2s/epoch - 2ms/step\n",
            "Epoch 4/20\n",
            "938/938 - 2s - loss: 0.6757 - accuracy: 0.7871 - 2s/epoch - 2ms/step\n",
            "Epoch 5/20\n",
            "938/938 - 2s - loss: 0.6474 - accuracy: 0.7931 - 2s/epoch - 2ms/step\n",
            "Epoch 6/20\n",
            "938/938 - 2s - loss: 0.6145 - accuracy: 0.8276 - 2s/epoch - 2ms/step\n",
            "Epoch 7/20\n",
            "938/938 - 2s - loss: 0.5931 - accuracy: 0.8454 - 2s/epoch - 2ms/step\n",
            "Epoch 8/20\n",
            "938/938 - 2s - loss: 0.5928 - accuracy: 0.8438 - 2s/epoch - 2ms/step\n",
            "Epoch 9/20\n",
            "938/938 - 2s - loss: 0.5742 - accuracy: 0.8525 - 2s/epoch - 2ms/step\n",
            "Epoch 10/20\n",
            "938/938 - 2s - loss: 0.5750 - accuracy: 0.8541 - 2s/epoch - 2ms/step\n",
            "Epoch 11/20\n",
            "938/938 - 2s - loss: 0.5789 - accuracy: 0.8510 - 2s/epoch - 2ms/step\n",
            "Epoch 12/20\n",
            "938/938 - 2s - loss: 0.5582 - accuracy: 0.8617 - 2s/epoch - 2ms/step\n",
            "Epoch 13/20\n",
            "938/938 - 2s - loss: 0.5641 - accuracy: 0.8585 - 2s/epoch - 2ms/step\n",
            "Epoch 14/20\n",
            "938/938 - 2s - loss: 0.5532 - accuracy: 0.8610 - 2s/epoch - 2ms/step\n",
            "Epoch 15/20\n",
            "938/938 - 2s - loss: 0.5423 - accuracy: 0.8633 - 2s/epoch - 2ms/step\n",
            "Epoch 16/20\n",
            "938/938 - 2s - loss: 0.5460 - accuracy: 0.8617 - 2s/epoch - 2ms/step\n",
            "Epoch 17/20\n",
            "938/938 - 2s - loss: 0.5401 - accuracy: 0.8635 - 2s/epoch - 2ms/step\n",
            "Epoch 18/20\n",
            "938/938 - 2s - loss: 0.5345 - accuracy: 0.8676 - 2s/epoch - 2ms/step\n",
            "Epoch 19/20\n",
            "938/938 - 2s - loss: 0.5410 - accuracy: 0.8662 - 2s/epoch - 2ms/step\n",
            "Epoch 20/20\n",
            "938/938 - 2s - loss: 0.5280 - accuracy: 0.8703 - 2s/epoch - 2ms/step\n"
          ]
        }
      ],
      "source": [
        "batch_num = 0\n",
        "model4 = Sequential()\n",
        "model4.add(Flatten(input_shape=(X_train.shape[1] , X_train.shape[2]))) # input layer\n",
        "model4.add(Dense(nh1 , activation='sigmoid')) # first hidden layer\n",
        "model4.add(Dense(nh2 , activation='sigmoid')) # second hidden layer\n",
        "model4.add(Dense(ny , activation='softmax')) # output layer\n",
        "model4.compile(optimizer=tf.keras.optimizers.SGD(learning_rate=0.1, decay=1e-6, momentum=0.99, nesterov=True) , \n",
        "                loss= L_new(model4,0.00001,batch_size) , metrics=['accuracy'])\n",
        "history4 = model4.fit(X_train , Y_train_oh , epochs = 20 , batch_size = batch_size , verbose = 2)"
      ]
    },
    {
      "cell_type": "code",
      "execution_count": 61,
      "metadata": {
        "colab": {
          "base_uri": "https://localhost:8080/"
        },
        "collapsed": true,
        "id": "-8nbSbEFKs-J",
        "outputId": "97fd9686-9bf9-48d9-eebf-6bd47b43450a"
      },
      "outputs": [
        {
          "name": "stdout",
          "output_type": "stream",
          "text": [
            "313/313 [==============================] - 0s 1ms/step\n"
          ]
        },
        {
          "data": {
            "text/plain": [
              "0.866"
            ]
          },
          "execution_count": 61,
          "metadata": {},
          "output_type": "execute_result"
        }
      ],
      "source": [
        "test_accuracy(model4)"
      ]
    },
    {
      "cell_type": "code",
      "execution_count": 62,
      "metadata": {
        "colab": {
          "base_uri": "https://localhost:8080/",
          "height": 265
        },
        "collapsed": true,
        "id": "KyH76E8XKs0T",
        "outputId": "b56f14c8-d194-43b7-8c85-a6c749e5516f"
      },
      "outputs": [
        {
          "data": {
            "image/png": "[encoded data removed]",
            "text/plain": [
              "<Figure size 432x288 with 1 Axes>"
            ]
          },
          "metadata": {
            "needs_background": "light"
          },
          "output_type": "display_data"
        }
      ],
      "source": [
        "loss_plot(history4,\"Model 4\")"
      ]
    },
    {
      "cell_type": "code",
      "execution_count": 63,
      "metadata": {
        "colab": {
          "base_uri": "https://localhost:8080/"
        },
        "collapsed": true,
        "id": "9cP62zueS3C5",
        "outputId": "2a1109ba-6f15-4e7d-9a89-8c53a45ffb2f"
      },
      "outputs": [
        {
          "name": "stdout",
          "output_type": "stream",
          "text": [
            "Epoch 1/20\n",
            "938/938 - 3s - loss: 2.0376 - accuracy: 0.4105 - 3s/epoch - 4ms/step\n",
            "Epoch 2/20\n",
            "938/938 - 2s - loss: 1.4308 - accuracy: 0.6717 - 2s/epoch - 2ms/step\n",
            "Epoch 3/20\n",
            "938/938 - 2s - loss: 1.0450 - accuracy: 0.7521 - 2s/epoch - 2ms/step\n",
            "Epoch 4/20\n",
            "938/938 - 2s - loss: 0.8429 - accuracy: 0.7864 - 2s/epoch - 2ms/step\n",
            "Epoch 5/20\n",
            "938/938 - 2s - loss: 0.7267 - accuracy: 0.8134 - 2s/epoch - 2ms/step\n",
            "Epoch 6/20\n",
            "938/938 - 2s - loss: 0.6526 - accuracy: 0.8328 - 2s/epoch - 2ms/step\n",
            "Epoch 7/20\n",
            "938/938 - 2s - loss: 0.6022 - accuracy: 0.8426 - 2s/epoch - 2ms/step\n",
            "Epoch 8/20\n",
            "938/938 - 2s - loss: 0.5679 - accuracy: 0.8491 - 2s/epoch - 2ms/step\n",
            "Epoch 9/20\n",
            "938/938 - 3s - loss: 0.5440 - accuracy: 0.8525 - 3s/epoch - 3ms/step\n",
            "Epoch 10/20\n",
            "938/938 - 2s - loss: 0.5258 - accuracy: 0.8568 - 2s/epoch - 2ms/step\n",
            "Epoch 11/20\n",
            "938/938 - 2s - loss: 0.5123 - accuracy: 0.8594 - 2s/epoch - 2ms/step\n",
            "Epoch 12/20\n",
            "938/938 - 2s - loss: 0.4998 - accuracy: 0.8632 - 2s/epoch - 2ms/step\n",
            "Epoch 13/20\n",
            "938/938 - 2s - loss: 0.4894 - accuracy: 0.8665 - 2s/epoch - 2ms/step\n",
            "Epoch 14/20\n",
            "938/938 - 2s - loss: 0.4795 - accuracy: 0.8690 - 2s/epoch - 2ms/step\n",
            "Epoch 15/20\n",
            "938/938 - 2s - loss: 0.4704 - accuracy: 0.8705 - 2s/epoch - 2ms/step\n",
            "Epoch 16/20\n",
            "938/938 - 2s - loss: 0.4622 - accuracy: 0.8728 - 2s/epoch - 2ms/step\n",
            "Epoch 17/20\n",
            "938/938 - 2s - loss: 0.4555 - accuracy: 0.8744 - 2s/epoch - 2ms/step\n",
            "Epoch 18/20\n",
            "938/938 - 2s - loss: 0.4492 - accuracy: 0.8760 - 2s/epoch - 2ms/step\n",
            "Epoch 19/20\n",
            "938/938 - 2s - loss: 0.4430 - accuracy: 0.8775 - 2s/epoch - 2ms/step\n",
            "Epoch 20/20\n",
            "938/938 - 2s - loss: 0.4380 - accuracy: 0.8795 - 2s/epoch - 2ms/step\n"
          ]
        }
      ],
      "source": [
        "batch_num = 0\n",
        "model5 = Sequential()\n",
        "model5.add(Flatten(input_shape=(X_train.shape[1] , X_train.shape[2]))) # input layer\n",
        "model5.add(Dense(nh1 , activation='sigmoid')) # first hidden layer\n",
        "model5.add(Dense(nh2 , activation='sigmoid')) # second hidden layer\n",
        "model5.add(Dense(ny , activation='softmax')) # output layer\n",
        "model5.compile(optimizer='adam' , loss= L_new(model5,0.00001 , batch_size) , metrics=['accuracy'] )\n",
        "history5 = model5.fit(X_train , Y_train_oh , epochs = 20 , batch_size = batch_size , verbose = 2)"
      ]
    },
    {
      "cell_type": "code",
      "execution_count": 66,
      "metadata": {
        "colab": {
          "base_uri": "https://localhost:8080/"
        },
        "collapsed": true,
        "id": "YLFPS8pmTvLr",
        "outputId": "8af38ae0-1977-4ec1-feb6-253a8a9ae553"
      },
      "outputs": [
        {
          "name": "stdout",
          "output_type": "stream",
          "text": [
            "313/313 [==============================] - 0s 1ms/step\n"
          ]
        },
        {
          "data": {
            "text/plain": [
              "0.8717"
            ]
          },
          "execution_count": 66,
          "metadata": {},
          "output_type": "execute_result"
        }
      ],
      "source": [
        "test_accuracy(model5)"
      ]
    },
    {
      "cell_type": "code",
      "execution_count": 65,
      "metadata": {
        "colab": {
          "base_uri": "https://localhost:8080/",
          "height": 265
        },
        "collapsed": true,
        "id": "TwiZZicCTvmf",
        "outputId": "943da617-475a-4e73-c03d-9c0a40cef2bc"
      },
      "outputs": [
        {
          "data": {
            "image/png": "[encoded data removed]",
            "text/plain": [
              "<Figure size 432x288 with 1 Axes>"
            ]
          },
          "metadata": {
            "needs_background": "light"
          },
          "output_type": "display_data"
        }
      ],
      "source": [
        "loss_plot(history5,\"Model 5\")"
      ]
    },
    {
      "cell_type": "code",
      "execution_count": 73,
      "metadata": {
        "colab": {
          "base_uri": "https://localhost:8080/"
        },
        "collapsed": true,
        "id": "GUEIjuC2UCfJ",
        "outputId": "55693d36-8b81-41b9-af37-d020aa277d6e"
      },
      "outputs": [
        {
          "name": "stdout",
          "output_type": "stream",
          "text": [
            "Epoch 1/20\n",
            "938/938 - 2s - loss: 1.1190 - accuracy: 0.6884 - 2s/epoch - 2ms/step\n",
            "Epoch 2/20\n",
            "938/938 - 2s - loss: 0.8605 - accuracy: 0.7980 - 2s/epoch - 2ms/step\n",
            "Epoch 3/20\n",
            "938/938 - 2s - loss: 0.8025 - accuracy: 0.8152 - 2s/epoch - 2ms/step\n",
            "Epoch 4/20\n",
            "938/938 - 2s - loss: 0.7778 - accuracy: 0.8228 - 2s/epoch - 2ms/step\n",
            "Epoch 5/20\n",
            "938/938 - 2s - loss: 0.7498 - accuracy: 0.8347 - 2s/epoch - 2ms/step\n",
            "Epoch 6/20\n",
            "938/938 - 2s - loss: 0.7536 - accuracy: 0.8324 - 2s/epoch - 2ms/step\n",
            "Epoch 7/20\n",
            "938/938 - 2s - loss: 0.7366 - accuracy: 0.8388 - 2s/epoch - 2ms/step\n",
            "Epoch 8/20\n",
            "938/938 - 2s - loss: 0.7491 - accuracy: 0.8354 - 2s/epoch - 2ms/step\n",
            "Epoch 9/20\n",
            "938/938 - 2s - loss: 0.7261 - accuracy: 0.8445 - 2s/epoch - 2ms/step\n",
            "Epoch 10/20\n",
            "938/938 - 2s - loss: 0.7087 - accuracy: 0.8496 - 2s/epoch - 2ms/step\n",
            "Epoch 11/20\n",
            "938/938 - 2s - loss: 0.7155 - accuracy: 0.8474 - 2s/epoch - 2ms/step\n",
            "Epoch 12/20\n",
            "938/938 - 2s - loss: 0.7151 - accuracy: 0.8465 - 2s/epoch - 2ms/step\n",
            "Epoch 13/20\n",
            "938/938 - 2s - loss: 0.6958 - accuracy: 0.8541 - 2s/epoch - 2ms/step\n",
            "Epoch 14/20\n",
            "938/938 - 2s - loss: 0.7107 - accuracy: 0.8434 - 2s/epoch - 2ms/step\n",
            "Epoch 15/20\n",
            "938/938 - 2s - loss: 0.6959 - accuracy: 0.8500 - 2s/epoch - 2ms/step\n",
            "Epoch 16/20\n",
            "938/938 - 2s - loss: 0.6830 - accuracy: 0.8546 - 2s/epoch - 2ms/step\n",
            "Epoch 17/20\n",
            "938/938 - 2s - loss: 0.6984 - accuracy: 0.8529 - 2s/epoch - 2ms/step\n",
            "Epoch 18/20\n",
            "938/938 - 2s - loss: 0.6830 - accuracy: 0.8565 - 2s/epoch - 2ms/step\n",
            "Epoch 19/20\n",
            "938/938 - 2s - loss: 0.6947 - accuracy: 0.8484 - 2s/epoch - 2ms/step\n",
            "Epoch 20/20\n",
            "938/938 - 2s - loss: 0.6919 - accuracy: 0.8521 - 2s/epoch - 2ms/step\n"
          ]
        }
      ],
      "source": [
        "model6 = Sequential()\n",
        "model6.add(Flatten(input_shape=(X_train.shape[1] , X_train.shape[2]))) # input layer\n",
        "model6.add(Dense(nh1 , activation='sigmoid')) # first hidden layer\n",
        "model6.add(Dense(nh2 , activation='sigmoid')) # second hidden layer\n",
        "model6.add(Dense(ny , activation='softmax')) # output layer\n",
        "model6.compile(optimizer=tf.keras.optimizers.SGD(learning_rate=0.1, decay=1e-6, momentum=0.99, nesterov=True) ,\n",
        "                loss= Custom_Loss_Function(model6,0.1) , metrics=['accuracy'] )\n",
        "history6 = model6.fit(X_train , Y_train_oh , epochs = 20 , batch_size = batch_size , verbose = 2)"
      ]
    },
    {
      "cell_type": "code",
      "execution_count": 74,
      "metadata": {
        "colab": {
          "base_uri": "https://localhost:8080/"
        },
        "collapsed": true,
        "id": "PM-jvGpkWV2N",
        "outputId": "7e5074cd-1742-49b4-fbb3-5e8a51fb9f78"
      },
      "outputs": [
        {
          "name": "stdout",
          "output_type": "stream",
          "text": [
            "313/313 [==============================] - 0s 1ms/step\n"
          ]
        },
        {
          "data": {
            "text/plain": [
              "0.8573"
            ]
          },
          "execution_count": 74,
          "metadata": {},
          "output_type": "execute_result"
        }
      ],
      "source": [
        "test_accuracy(model6)"
      ]
    },
    {
      "cell_type": "code",
      "execution_count": 75,
      "metadata": {
        "colab": {
          "base_uri": "https://localhost:8080/",
          "height": 265
        },
        "collapsed": true,
        "id": "GwHu7ee8WcZM",
        "outputId": "2634df0a-fee1-4ec7-de0e-2780d783a365"
      },
      "outputs": [
        {
          "data": {
            "image/png": "[encoded data removed]",
            "text/plain": [
              "<Figure size 432x288 with 1 Axes>"
            ]
          },
          "metadata": {
            "needs_background": "light"
          },
          "output_type": "display_data"
        }
      ],
      "source": [
        "loss_plot(history6,\"Model 6\")"
      ]
    },
    {
      "cell_type": "code",
      "execution_count": 72,
      "metadata": {
        "colab": {
          "base_uri": "https://localhost:8080/"
        },
        "id": "EuPYyzIbh0rP",
        "outputId": "8d8a8d5b-49b4-4294-e132-5de4b8fb814b"
      },
      "outputs": [
        {
          "name": "stdout",
          "output_type": "stream",
          "text": [
            "Epoch 1/20\n",
            "938/938 - 2s - loss: 2.1585 - accuracy: 0.3446 - 2s/epoch - 3ms/step\n",
            "Epoch 2/20\n",
            "938/938 - 2s - loss: 1.6125 - accuracy: 0.5585 - 2s/epoch - 2ms/step\n",
            "Epoch 3/20\n",
            "938/938 - 2s - loss: 1.2765 - accuracy: 0.7053 - 2s/epoch - 2ms/step\n",
            "Epoch 4/20\n",
            "938/938 - 2s - loss: 1.0555 - accuracy: 0.7764 - 2s/epoch - 2ms/step\n",
            "Epoch 5/20\n",
            "938/938 - 2s - loss: 0.8970 - accuracy: 0.8274 - 2s/epoch - 2ms/step\n",
            "Epoch 6/20\n",
            "938/938 - 2s - loss: 0.7829 - accuracy: 0.8488 - 2s/epoch - 2ms/step\n",
            "Epoch 7/20\n",
            "938/938 - 2s - loss: 0.7051 - accuracy: 0.8594 - 2s/epoch - 2ms/step\n",
            "Epoch 8/20\n",
            "938/938 - 2s - loss: 0.6554 - accuracy: 0.8645 - 2s/epoch - 2ms/step\n",
            "Epoch 9/20\n",
            "938/938 - 2s - loss: 0.6244 - accuracy: 0.8671 - 2s/epoch - 2ms/step\n",
            "Epoch 10/20\n",
            "938/938 - 2s - loss: 0.6042 - accuracy: 0.8694 - 2s/epoch - 2ms/step\n",
            "Epoch 11/20\n",
            "938/938 - 2s - loss: 0.5907 - accuracy: 0.8707 - 2s/epoch - 2ms/step\n",
            "Epoch 12/20\n",
            "938/938 - 2s - loss: 0.5807 - accuracy: 0.8724 - 2s/epoch - 2ms/step\n",
            "Epoch 13/20\n",
            "938/938 - 2s - loss: 0.5727 - accuracy: 0.8735 - 2s/epoch - 2ms/step\n",
            "Epoch 14/20\n",
            "938/938 - 2s - loss: 0.5663 - accuracy: 0.8747 - 2s/epoch - 2ms/step\n",
            "Epoch 15/20\n",
            "938/938 - 2s - loss: 0.5601 - accuracy: 0.8756 - 2s/epoch - 2ms/step\n",
            "Epoch 16/20\n",
            "938/938 - 3s - loss: 0.5552 - accuracy: 0.8770 - 3s/epoch - 3ms/step\n",
            "Epoch 17/20\n",
            "938/938 - 3s - loss: 0.5507 - accuracy: 0.8777 - 3s/epoch - 3ms/step\n",
            "Epoch 18/20\n",
            "938/938 - 2s - loss: 0.5461 - accuracy: 0.8788 - 2s/epoch - 3ms/step\n",
            "Epoch 19/20\n",
            "938/938 - 2s - loss: 0.5421 - accuracy: 0.8798 - 2s/epoch - 2ms/step\n",
            "Epoch 20/20\n",
            "938/938 - 2s - loss: 0.5382 - accuracy: 0.8805 - 2s/epoch - 2ms/step\n"
          ]
        }
      ],
      "source": [
        "model7 = Sequential()\n",
        "model7.add(Flatten(input_shape=(X_train.shape[1] , X_train.shape[2]))) # input layer\n",
        "model7.add(Dense(nh1 , activation='sigmoid')) # first hidden layer\n",
        "model7.add(Dense(nh2 , activation='sigmoid')) # second hidden layer\n",
        "model7.add(Dense(ny , activation='softmax')) # output layer\n",
        "model7.compile(optimizer='adam' , loss= Custom_Loss_Function(model7,0.1) , metrics=['accuracy'] )\n",
        "history7 = model7.fit(X_train , Y_train_oh , epochs = 20 , batch_size = batch_size , verbose = 2)"
      ]
    },
    {
      "cell_type": "code",
      "execution_count": 76,
      "metadata": {
        "colab": {
          "base_uri": "https://localhost:8080/"
        },
        "id": "X1mgKhh7h2fN",
        "outputId": "5fa5756c-346f-43e0-fe43-06ffd110345c"
      },
      "outputs": [
        {
          "name": "stdout",
          "output_type": "stream",
          "text": [
            "313/313 [==============================] - 0s 1ms/step\n"
          ]
        },
        {
          "data": {
            "text/plain": [
              "0.8757"
            ]
          },
          "execution_count": 76,
          "metadata": {},
          "output_type": "execute_result"
        }
      ],
      "source": [
        "test_accuracy(model7)"
      ]
    },
    {
      "cell_type": "code",
      "execution_count": 77,
      "metadata": {
        "colab": {
          "base_uri": "https://localhost:8080/",
          "height": 265
        },
        "id": "ykOV5duth4Zo",
        "outputId": "f896f901-bec5-4d01-ba27-08e1434af3b5"
      },
      "outputs": [
        {
          "data": {
            "image/png": "[encoded data removed]",
            "text/plain": [
              "<Figure size 432x288 with 1 Axes>"
            ]
          },
          "metadata": {
            "needs_background": "light"
          },
          "output_type": "display_data"
        }
      ],
      "source": [
        "loss_plot(history7,\"Model 7\")"
      ]
    }
  ],
  "metadata": {
    "accelerator": "GPU",
    "colab": {
      "provenance": []
    },
    "gpuClass": "standard",
    "kernelspec": {
      "display_name": "Python 3",
      "name": "python3"
    },
    "language_info": {
      "name": "python"
    }
  },
  "nbformat": 4,
  "nbformat_minor": 0
}
